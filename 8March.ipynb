{
 "cells": [
  {
   "cell_type": "code",
   "execution_count": null,
   "id": "0332be23-3c64-4a47-8027-77623cf423ca",
   "metadata": {},
   "outputs": [],
   "source": [
    "Q1. What is the Probability density function? "
   ]
  },
  {
   "cell_type": "code",
   "execution_count": null,
   "id": "c1ac1d51-26dd-4a95-a054-b29aa41c3928",
   "metadata": {},
   "outputs": [],
   "source": [
    "obtained from mathmatical model \n",
    "an emperical listing of outcomes and their observed relative frequancies.\n",
    "subjective listing of outcome associatied with their subjective  or contrived probabilty representing  the degree of conviction of the decision maker\n"
   ]
  },
  {
   "cell_type": "code",
   "execution_count": null,
   "id": "07134341-80b6-4121-a826-299d5596602b",
   "metadata": {},
   "outputs": [],
   "source": [
    "Q2. What are the types of Probability distribution? \n"
   ]
  },
  {
   "cell_type": "code",
   "execution_count": null,
   "id": "8f80131a-5a9f-4f1f-b2bc-0a49219c0c4d",
   "metadata": {},
   "outputs": [],
   "source": [
    "types of probabiblty distribution function\n",
    "1.Binomial Distribution function\n",
    "2.Multinomial Distribution functon\n",
    "3.Poisson Distribution\n",
    "4.Normal Distribution\n",
    "5.hypergeometric Distribution\n",
    "6.Negative Distrivution"
   ]
  },
  {
   "cell_type": "code",
   "execution_count": null,
   "id": "831c034f-3af9-4344-b9eb-3ba176f97f3d",
   "metadata": {},
   "outputs": [],
   "source": [
    "Q3. Write a Python function to calculate the probability density function of a normal distribution with  given mean and standard deviation at a given point. \n"
   ]
  },
  {
   "cell_type": "code",
   "execution_count": null,
   "id": "d3d5a1e2-ed54-40fc-9fef-352d89106c45",
   "metadata": {},
   "outputs": [],
   "source": [
    "A normal distribution is a type of continuous probability distribution for a real-valued random variable. It is based on mean and standard deviation. \n",
    "The probability distribution function or PDF computes the likelihood of a single point in the distribution. The general formula to calculate PDF\n",
    "for the normal distribution is\n",
    "\n",
    "µ is the mean\n",
    "σ is the standard deviation of the distribution\n",
    "x is the number"
   ]
  },
  {
   "cell_type": "code",
   "execution_count": null,
   "id": "2173e0c4-de62-44da-bd78-5846e792dd11",
   "metadata": {},
   "outputs": [],
   "source": [
    "Q4. What are the properties of Binomial distribution? Give two examples of events where binomial  distribution can be applied. \n"
   ]
  },
  {
   "cell_type": "code",
   "execution_count": null,
   "id": "f1b97a0c-5ab1-4c76-882e-8d9abc1c479a",
   "metadata": {},
   "outputs": [],
   "source": [
    "it is discrete probabilty  distribution that gives only two possible result\n",
    "in an experiment either success or Failure \n",
    "ex-if we toss a coin there 2 outcomes\n",
    "\n",
    "the binomial distribution is the discrete probability distribution that gives only two\n",
    "possible results in an experiment, either Success or Failure. For example, if we toss a \n",
    "coin, there could be only two possible outcomes: heads or tails, and if any test is taken,\n",
    "then there could be only two results: pass or fail. This distribution is also called a \n",
    "binomial probability distribution.\n"
   ]
  },
  {
   "cell_type": "code",
   "execution_count": null,
   "id": "b08a5569-143e-4356-b3ab-f824de70e71f",
   "metadata": {},
   "outputs": [],
   "source": [
    "Q5. Generate a random sample of size 1000 from a binomial distribution with probability of success 0.4  and plot a histogram of the results using matplotlib. \n",
    "0.4  and plot a histogram of the results using matplotlib. "
   ]
  },
  {
   "cell_type": "code",
   "execution_count": null,
   "id": "9c9d070e-58ae-4055-82d3-e130fd2bca44",
   "metadata": {},
   "outputs": [],
   "source": [
    "import matplotlib.pyplot as plt\n",
    "np.random.seed(42)\n",
    "bion_sample = np.random.binomial(n=1,p=0.4,size=100)\n",
    "#n parameter: It represents the number of trials in each experiment or the number of Bernoulli trials. In the context of a binomial distribution, each trial can result in success (1) or failure (0). Setting n=1 means there is only one trial per \n",
    "#p parameter: It represents the probability of success in each trial. In the context of a binomial distribution, p is the probability of getting a success (1) in a single trial. In this case, p=0.4 means there's a 40% probability of success in each trial.\n",
    "plt.hist(bion_sample,bins=[-0.5,0.5,1.5],edgecolor='black')\n",
    "# the bins parameter specifies the bins (intervals) into which the data will be grouped in the histogram. It helps define the boundaries of each bin or bar in the histogram.\n",
    "plt.title('Bionomial Distribution with 0.4 success')\n",
    "plt.xlabel('outcome (0: Failure ,1: Success)')\n",
    "plt.ylabel('Frequancy')\n",
    "plt.show()"
   ]
  },
  {
   "cell_type": "code",
   "execution_count": null,
   "id": "b7c010a3-1740-4b59-a873-c28161b3fc40",
   "metadata": {},
   "outputs": [],
   "source": [
    "Q6. Write a Python function to calculate the cumulative distribution function of a Poisson distribution  with given mean at a given point. \n"
   ]
  },
  {
   "cell_type": "code",
   "execution_count": null,
   "id": "94bfadcc-4b9c-45ba-970e-2f42118829f4",
   "metadata": {},
   "outputs": [],
   "source": [
    "import numpy as np \n",
    "import matplotlib.pyplot as plt \n",
    "import pandas as pd \n",
    "%matplotlib inline \n",
    "N = 500  # No of data points used \n",
    "# normal distribution \n",
    "data = np.random.randn(N) \n",
    "  \n",
    "# sort the data in ascending order \n",
    "x = np.sort(data) \n",
    "  \n",
    "# get the cdf values of y \n",
    "y = np.arange(N) / float(N) \n",
    "# plotting \n",
    "plt.xlabel('x-axis') \n",
    "plt.ylabel('y-axis') \n",
    "  \n",
    "plt.title('CDF using sorting the data') \n",
    "  \n",
    "plt.plot(x, y, marker='o') \n",
    "\n",
    "\n",
    "\n",
    "\n"
   ]
  },
  {
   "cell_type": "code",
   "execution_count": null,
   "id": "d54611d6-652c-4681-afd0-bb8d62bc5f71",
   "metadata": {},
   "outputs": [],
   "source": [
    "Q7. How Binomial distribution different from Poisson distribution? \n"
   ]
  },
  {
   "cell_type": "code",
   "execution_count": null,
   "id": "3280d16b-9686-4dd3-8386-a3e527915161",
   "metadata": {},
   "outputs": [],
   "source": [
    "Binomial distribution is the one in which the number of outcomes are only two, that is\n",
    "success or failure. Example of binomial distribution: Coin toss. Poisson distribution:\n",
    "Poisson distribution is the one in which the number of possible outcomes has no limits"
   ]
  },
  {
   "cell_type": "code",
   "execution_count": null,
   "id": "e6d67530-b1b6-436c-beb6-1fc22551a0bb",
   "metadata": {},
   "outputs": [],
   "source": [
    "Q8. Generate a random sample of size 1000 from a Poisson distribution with mean 5 and calculate the  sample mean and variance. "
   ]
  },
  {
   "cell_type": "code",
   "execution_count": null,
   "id": "9789a803-a93c-4447-8408-389856693af5",
   "metadata": {},
   "outputs": [],
   "source": [
    "np.random.seed(40)\n",
    "poisson_sample = np.random.poisson(lam =5, size=1000)# lam  represents the average rate or mean of the Poisson distribution. In this case, lam=5 means that the average number of events per unit of time (or space) is 5.\n",
    "sample_mean = np.mean(poisson_sample)\n",
    "sample_variance  = np.var(poisson_sample,ddof=1)\n",
    "print(\"sample mean\",sample_mean)\n",
    "print(\"sample variance\",sample_variance)"
   ]
  },
  {
   "cell_type": "code",
   "execution_count": null,
   "id": "359e1e3b-a999-4551-8f9c-8631b590c679",
   "metadata": {},
   "outputs": [],
   "source": [
    "Q9. How mean and variance are related in Binomial distribution and Poisson distribution? "
   ]
  },
  {
   "cell_type": "code",
   "execution_count": null,
   "id": "24784ef2-e823-4476-8e67-0d37f04dafe2",
   "metadata": {},
   "outputs": [],
   "source": [
    "In a binomial distribution, there are only two possible outcomes, i.e. success or failure. \n",
    "Conversely, there are an unlimited number of possible outcomes in the case of poisson \n",
    "distribution. In binomial distribution Mean > Variance while in poisson distribution\n",
    "mean = variance.\n"
   ]
  },
  {
   "cell_type": "code",
   "execution_count": null,
   "id": "cb1f546f-cfb9-41bf-84bc-06bd6ef1a810",
   "metadata": {},
   "outputs": [],
   "source": [
    "Q10. In normal distribution with respect to mean position, where does the least frequent data appear? \n"
   ]
  },
  {
   "cell_type": "code",
   "execution_count": null,
   "id": "3647c852-52cd-4038-9fd0-528ef0106bd1",
   "metadata": {},
   "outputs": [],
   "source": [
    "The least frequent data points are located in the tails of the distribution, \n",
    "farthest from the mean. As you move away from the mean towards the tails, the frequency of \n",
    "occurrence decreases. The tails of the distribution represent extreme values, and these are \n",
    "less likely to occur compared to values closer to the mean. Therefore, the least frequent\n",
    "data appears in the tails of the normal distribution."
   ]
  },
  {
   "cell_type": "code",
   "execution_count": null,
   "id": "22ea14fc-0f48-419a-b52f-c24f66a8e5fe",
   "metadata": {},
   "outputs": [],
   "source": []
  },
  {
   "cell_type": "code",
   "execution_count": null,
   "id": "adb012d4-f3eb-4cae-b9de-382e8d631be2",
   "metadata": {},
   "outputs": [],
   "source": []
  }
 ],
 "metadata": {
  "kernelspec": {
   "display_name": "Python 3 (ipykernel)",
   "language": "python",
   "name": "python3"
  },
  "language_info": {
   "codemirror_mode": {
    "name": "ipython",
    "version": 3
   },
   "file_extension": ".py",
   "mimetype": "text/x-python",
   "name": "python",
   "nbconvert_exporter": "python",
   "pygments_lexer": "ipython3",
   "version": "3.10.8"
  }
 },
 "nbformat": 4,
 "nbformat_minor": 5
}
